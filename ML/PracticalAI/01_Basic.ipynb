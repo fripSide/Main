{
 "cells": [
  {
   "cell_type": "markdown",
   "metadata": {},
   "source": [
    "# Notebook用法\n",
    "\n",
    "### Create Text Cell\n",
    "点加号**➕TEXT**，然后在工具栏的框里面切换格式，当时格式是Markdown。\n",
    "\n",
    "### Run Cell\n",
    "shift enter\n",
    "\n",
    "### Edit Cell\n",
    "双击\n",
    "\n",
    "### Move Cell\n",
    "点工具栏的上下图标，⬆️CELL and ⬇️CELL 。\n",
    "\n",
    "### Delete Cell\n",
    "单击单元格，在菜单的 Edit -> Delete Cells，删除单元格。\n",
    "\n",
    "### Create Code Cell\n",
    "点工具栏加号，然后将右边的框中格式改成Code。\n",
    "\n",
    "### 快捷键\n",
    "http://opus.konghy.cn/ipynb/jupyter-notebook-keyboard-shortcut.html"
   ]
  },
  {
   "cell_type": "code",
   "execution_count": 4,
   "metadata": {},
   "outputs": [
    {
     "name": "stdout",
     "output_type": "stream",
     "text": [
      "hello notebook\n"
     ]
    }
   ],
   "source": [
    "print(\"hello notebook\")"
   ]
  },
  {
   "cell_type": "markdown",
   "metadata": {},
   "source": [
    "# Python\n",
    "学习基础教程，https://github.com/fripSide/LearnPython"
   ]
  },
  {
   "cell_type": "markdown",
   "metadata": {},
   "source": [
    "# NumPy\n",
    "### Numpy Basic"
   ]
  },
  {
   "cell_type": "code",
   "execution_count": 5,
   "metadata": {},
   "outputs": [],
   "source": [
    "import numpy as np\n",
    "# Set seed for reproducibility\n",
    "np.random.seed(seed=1234)"
   ]
  },
  {
   "cell_type": "code",
   "execution_count": 10,
   "metadata": {},
   "outputs": [
    {
     "name": "stdout",
     "output_type": "stream",
     "text": [
      "x:  7\n",
      "<class 'numpy.ndarray'>\n",
      "0 () 1 int32\n"
     ]
    }
   ],
   "source": [
    "# Scalars\n",
    "x = np.array(7)\n",
    "print(\"x: \", x)\n",
    "print(type(x))\n",
    "# ndim,维度，dimensions\n",
    "# size of elements\n",
    "# dtype,Data type\n",
    "print(x.ndim, x.shape, x.size, x.dtype)"
   ]
  },
  {
   "cell_type": "code",
   "execution_count": 13,
   "metadata": {},
   "outputs": [
    {
     "name": "stdout",
     "output_type": "stream",
     "text": [
      "x [1.3 2.2 1.  1.7]\n",
      "x ndim:  1\n",
      "x shape: (4,)\n",
      "x size:  4\n",
      "x dtype:  float64\n"
     ]
    }
   ],
   "source": [
    "# 1-D Array\n",
    "x = np.array([1.3, 2.2, 1., 1.7])\n",
    "print(\"x\", x)\n",
    "print (\"x ndim: \", x.ndim)\n",
    "print (\"x shape:\", x.shape)\n",
    "print (\"x size: \", x.size)\n",
    "print (\"x dtype: \", x.dtype) # notice the float datatype"
   ]
  },
  {
   "cell_type": "code",
   "execution_count": 20,
   "metadata": {},
   "outputs": [
    {
     "name": "stdout",
     "output_type": "stream",
     "text": [
      "x ndim: 2\n",
      "shape (2, 3)\n",
      "x ndim: 3\n",
      "x shape: (1, 3, 3)\n",
      "x size:  9\n",
      "x dtype:  int32\n"
     ]
    }
   ],
   "source": [
    "# 2-D array\n",
    "x = np.array([[1,2,3], [4,5,6]])\n",
    "print(\"x ndim:\", x.ndim)\n",
    "# shape 2,3\n",
    "print(\"shape\", x.shape)\n",
    "# 3-D array (matrix)\n",
    "x = np.array([[[1,2,3], [4,5,6], [7,8,9]]])\n",
    "print(\"x ndim:\", x.ndim)\n",
    "print (\"x shape:\", x.shape)\n",
    "print (\"x size: \", x.size)\n",
    "print (\"x dtype: \", x.dtype)"
   ]
  },
  {
   "cell_type": "code",
   "execution_count": 37,
   "metadata": {},
   "outputs": [
    {
     "name": "stdout",
     "output_type": "stream",
     "text": [
      "创建0矩阵，np.zeros((2, 2)) [[0. 0.]\n",
      " [0. 0.]]\n",
      "创建1矩阵，np.ones((2, 2)) [[1. 1.]\n",
      " [1. 1.]]\n",
      "创建2维对角矩阵\n",
      " [[1. 0.]\n",
      " [0. 1.]]\n"
     ]
    }
   ],
   "source": [
    "# Functions\n",
    "print(\"创建0矩阵，np.zeros((2, 2))\", np.zeros((2, 2)))\n",
    "print(\"创建1矩阵，np.ones((2, 2))\", np.ones((2, 2)))\n",
    "print(\"创建2维对角矩阵:\\n\", np.eye((2)))\n"
   ]
  },
  {
   "cell_type": "code",
   "execution_count": null,
   "metadata": {},
   "outputs": [],
   "source": []
  }
 ],
 "metadata": {
  "kernelspec": {
   "display_name": "Python 3",
   "language": "python",
   "name": "python3"
  },
  "language_info": {
   "codemirror_mode": {
    "name": "ipython",
    "version": 3
   },
   "file_extension": ".py",
   "mimetype": "text/x-python",
   "name": "python",
   "nbconvert_exporter": "python",
   "pygments_lexer": "ipython3",
   "version": "3.6.5"
  }
 },
 "nbformat": 4,
 "nbformat_minor": 2
}
