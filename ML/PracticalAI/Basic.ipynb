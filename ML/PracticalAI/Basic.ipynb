{
 "cells": [
  {
   "cell_type": "markdown",
   "metadata": {},
   "source": [
    "# Notebook用法\n",
    "\n",
    "### Create Text Cell\n",
    "点加号**➕TEXT**，然后在工具栏的框里面切换格式，当时格式是Markdown。\n",
    "\n",
    "### Run Cell\n",
    "shift enter\n",
    "\n",
    "### Edit Cell\n",
    "双击\n",
    "\n",
    "### Move Cell\n",
    "点工具栏的上下图标，⬆️CELL and ⬇️CELL 。\n",
    "\n",
    "### Delete Cell\n",
    "单击单元格，在菜单的 Edit -> Delete Cells，删除单元格。\n",
    "\n",
    "### Create Code Cell\n",
    "点工具栏加号，然后将右边的框中格式改成Code。"
   ]
  },
  {
   "cell_type": "code",
   "execution_count": 1,
   "metadata": {},
   "outputs": [
    {
     "name": "stdout",
     "output_type": "stream",
     "text": [
      "hello notebook\n"
     ]
    }
   ],
   "source": [
    "print(\"hello notebook\")"
   ]
  },
  {
   "cell_type": "code",
   "execution_count": null,
   "metadata": {},
   "outputs": [],
   "source": []
  }
 ],
 "metadata": {
  "kernelspec": {
   "display_name": "Python 3",
   "language": "python",
   "name": "python3"
  },
  "language_info": {
   "codemirror_mode": {
    "name": "ipython",
    "version": 3
   },
   "file_extension": ".py",
   "mimetype": "text/x-python",
   "name": "python",
   "nbconvert_exporter": "python",
   "pygments_lexer": "ipython3",
   "version": "3.6.5"
  }
 },
 "nbformat": 4,
 "nbformat_minor": 2
}
